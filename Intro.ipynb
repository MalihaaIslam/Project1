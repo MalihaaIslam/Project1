{
  "metadata": {
    "kernelspec": {
      "name": "python",
      "display_name": "Python (Pyodide)",
      "language": "python"
    },
    "language_info": {
      "codemirror_mode": {
        "name": "python",
        "version": 3
      },
      "file_extension": ".py",
      "mimetype": "text/x-python",
      "name": "python",
      "nbconvert_exporter": "python",
      "pygments_lexer": "ipython3",
      "version": "3.8"
    }
  },
  "nbformat_minor": 5,
  "nbformat": 4,
  "cells": [
    {
      "cell_type": "code",
      "source": "\nimport numpy as np\nimport pandas as pd\nimport matplotlib.pyplot as plt\nimport sys\n\n%matplotlib inline",
      "metadata": {
        "trusted": true
      },
      "execution_count": 23,
      "outputs": [],
      "id": "5f987c35-d384-4b47-ad5f-9bd2f3e7a824"
    },
    {
      "cell_type": "code",
      "source": "wide = pd.read_csv('wide.csv')\nwide.head()",
      "metadata": {
        "trusted": true
      },
      "execution_count": 31,
      "outputs": [
        {
          "execution_count": 31,
          "output_type": "execute_result",
          "data": {
            "text/plain": "   enum  sup  a5  a6                  a7  a8  a8oth  a9  consent  \\\n0     4    1   1   7  Surjer Hasi Clinic   2    NaN  24        1   \n1     4    1   1   7  Surjer Hasi Clinic   2    NaN  24        1   \n2     4    1   1   7  Surjer Hasi Clinic   2    NaN  24        1   \n3     4    1   1   7  Surjer Hasi Clinic   2    NaN  24        1   \n4     4    1   1   7  Surjer Hasi Clinic   2    NaN  24        1   \n\n                  b11  ...  c54oth  c55  c56  \\\n0    Mst. Laily Begum  ...     NaN  NaN  NaN   \n1           Mst. Rani  ...     NaN  NaN  NaN   \n2   Mst. Shahin Akter  ...     NaN  NaN  NaN   \n3  Mst. Samrin Khatun  ...     NaN  NaN  NaN   \n4        Mst. Roksana  ...     NaN  NaN  NaN   \n\n                                                 c57  gps-Latitude  \\\n0                                    Kichu Bolar Nai     25.778742   \n1           Hat Dhowar Jaigai Saban Er Bebostha kora     25.778709   \n2                         Hand wash Er Bebostha Kora     25.778560   \n3  Toilet Gula  Arektu Parishkar Rakhar Dorkar, S...     25.778772   \n4          Hat Dhowar Sthane  Saban Er Bebostha kora     25.778727   \n\n  gps-Longitude  gps-Altitude  gps-Accuracy  \\\n0     88.904619         -12.3           4.5   \n1     88.904761         -12.3           4.6   \n2     88.904667         -12.1           4.6   \n3     88.904560         -12.3           4.9   \n4     88.904573         -12.3           4.7   \n\n                                  instanceID  \\\n0  uuid:bcf738b3-6cdf-43d8-9fe8-a9c042c32c85   \n1  uuid:5df60dea-0a61-4acf-b473-a6de9d38048f   \n2  uuid:dcf2f1a3-444a-4d80-b0fa-4531ab195ed9   \n3  uuid:f69053c7-2dfc-43b7-adeb-590c50cd7ade   \n4  uuid:03806c96-39e1-4b49-978a-4cab979e959f   \n\n                                         KEY  \n0  uuid:bcf738b3-6cdf-43d8-9fe8-a9c042c32c85  \n1  uuid:5df60dea-0a61-4acf-b473-a6de9d38048f  \n2  uuid:dcf2f1a3-444a-4d80-b0fa-4531ab195ed9  \n3  uuid:f69053c7-2dfc-43b7-adeb-590c50cd7ade  \n4  uuid:03806c96-39e1-4b49-978a-4cab979e959f  \n\n[5 rows x 79 columns]",
            "text/html": "<div>\n<style scoped>\n    .dataframe tbody tr th:only-of-type {\n        vertical-align: middle;\n    }\n\n    .dataframe tbody tr th {\n        vertical-align: top;\n    }\n\n    .dataframe thead th {\n        text-align: right;\n    }\n</style>\n<table border=\"1\" class=\"dataframe\">\n  <thead>\n    <tr style=\"text-align: right;\">\n      <th></th>\n      <th>enum</th>\n      <th>sup</th>\n      <th>a5</th>\n      <th>a6</th>\n      <th>a7</th>\n      <th>a8</th>\n      <th>a8oth</th>\n      <th>a9</th>\n      <th>consent</th>\n      <th>b11</th>\n      <th>...</th>\n      <th>c54oth</th>\n      <th>c55</th>\n      <th>c56</th>\n      <th>c57</th>\n      <th>gps-Latitude</th>\n      <th>gps-Longitude</th>\n      <th>gps-Altitude</th>\n      <th>gps-Accuracy</th>\n      <th>instanceID</th>\n      <th>KEY</th>\n    </tr>\n  </thead>\n  <tbody>\n    <tr>\n      <th>0</th>\n      <td>4</td>\n      <td>1</td>\n      <td>1</td>\n      <td>7</td>\n      <td>Surjer Hasi Clinic</td>\n      <td>2</td>\n      <td>NaN</td>\n      <td>24</td>\n      <td>1</td>\n      <td>Mst. Laily Begum</td>\n      <td>...</td>\n      <td>NaN</td>\n      <td>NaN</td>\n      <td>NaN</td>\n      <td>Kichu Bolar Nai</td>\n      <td>25.778742</td>\n      <td>88.904619</td>\n      <td>-12.3</td>\n      <td>4.5</td>\n      <td>uuid:bcf738b3-6cdf-43d8-9fe8-a9c042c32c85</td>\n      <td>uuid:bcf738b3-6cdf-43d8-9fe8-a9c042c32c85</td>\n    </tr>\n    <tr>\n      <th>1</th>\n      <td>4</td>\n      <td>1</td>\n      <td>1</td>\n      <td>7</td>\n      <td>Surjer Hasi Clinic</td>\n      <td>2</td>\n      <td>NaN</td>\n      <td>24</td>\n      <td>1</td>\n      <td>Mst. Rani</td>\n      <td>...</td>\n      <td>NaN</td>\n      <td>NaN</td>\n      <td>NaN</td>\n      <td>Hat Dhowar Jaigai Saban Er Bebostha kora</td>\n      <td>25.778709</td>\n      <td>88.904761</td>\n      <td>-12.3</td>\n      <td>4.6</td>\n      <td>uuid:5df60dea-0a61-4acf-b473-a6de9d38048f</td>\n      <td>uuid:5df60dea-0a61-4acf-b473-a6de9d38048f</td>\n    </tr>\n    <tr>\n      <th>2</th>\n      <td>4</td>\n      <td>1</td>\n      <td>1</td>\n      <td>7</td>\n      <td>Surjer Hasi Clinic</td>\n      <td>2</td>\n      <td>NaN</td>\n      <td>24</td>\n      <td>1</td>\n      <td>Mst. Shahin Akter</td>\n      <td>...</td>\n      <td>NaN</td>\n      <td>NaN</td>\n      <td>NaN</td>\n      <td>Hand wash Er Bebostha Kora</td>\n      <td>25.778560</td>\n      <td>88.904667</td>\n      <td>-12.1</td>\n      <td>4.6</td>\n      <td>uuid:dcf2f1a3-444a-4d80-b0fa-4531ab195ed9</td>\n      <td>uuid:dcf2f1a3-444a-4d80-b0fa-4531ab195ed9</td>\n    </tr>\n    <tr>\n      <th>3</th>\n      <td>4</td>\n      <td>1</td>\n      <td>1</td>\n      <td>7</td>\n      <td>Surjer Hasi Clinic</td>\n      <td>2</td>\n      <td>NaN</td>\n      <td>24</td>\n      <td>1</td>\n      <td>Mst. Samrin Khatun</td>\n      <td>...</td>\n      <td>NaN</td>\n      <td>NaN</td>\n      <td>NaN</td>\n      <td>Toilet Gula  Arektu Parishkar Rakhar Dorkar, S...</td>\n      <td>25.778772</td>\n      <td>88.904560</td>\n      <td>-12.3</td>\n      <td>4.9</td>\n      <td>uuid:f69053c7-2dfc-43b7-adeb-590c50cd7ade</td>\n      <td>uuid:f69053c7-2dfc-43b7-adeb-590c50cd7ade</td>\n    </tr>\n    <tr>\n      <th>4</th>\n      <td>4</td>\n      <td>1</td>\n      <td>1</td>\n      <td>7</td>\n      <td>Surjer Hasi Clinic</td>\n      <td>2</td>\n      <td>NaN</td>\n      <td>24</td>\n      <td>1</td>\n      <td>Mst. Roksana</td>\n      <td>...</td>\n      <td>NaN</td>\n      <td>NaN</td>\n      <td>NaN</td>\n      <td>Hat Dhowar Sthane  Saban Er Bebostha kora</td>\n      <td>25.778727</td>\n      <td>88.904573</td>\n      <td>-12.3</td>\n      <td>4.7</td>\n      <td>uuid:03806c96-39e1-4b49-978a-4cab979e959f</td>\n      <td>uuid:03806c96-39e1-4b49-978a-4cab979e959f</td>\n    </tr>\n  </tbody>\n</table>\n<p>5 rows × 79 columns</p>\n</div>"
          },
          "metadata": {}
        }
      ],
      "id": "911e652a-388f-4167-85f9-5a0c342dedb9"
    },
    {
      "cell_type": "code",
      "source": "wide.describe()",
      "metadata": {
        "trusted": true
      },
      "execution_count": 35,
      "outputs": [
        {
          "execution_count": 35,
          "output_type": "execute_result",
          "data": {
            "text/plain": "            enum   sup    a5         a6    a8  a8oth    a9  consent  \\\ncount  33.000000  33.0  33.0  33.000000  33.0    0.0  33.0     33.0   \nmean    3.484848   1.0   1.0   9.060606   2.0    NaN  24.0      1.0   \nstd     1.121417   0.0   0.0   2.030077   0.0    NaN   0.0      0.0   \nmin     2.000000   1.0   1.0   7.000000   2.0    NaN  24.0      1.0   \n25%     3.000000   1.0   1.0   7.000000   2.0    NaN  24.0      1.0   \n50%     3.000000   1.0   1.0  11.000000   2.0    NaN  24.0      1.0   \n75%     4.000000   1.0   1.0  11.000000   2.0    NaN  24.0      1.0   \nmax     5.000000   1.0   1.0  11.000000   2.0    NaN  24.0      1.0   \n\n             b12        b13  ...  c53  c53oth  c54  c54oth  c55  c56  \\\ncount  33.000000  33.000000  ...  0.0     0.0  0.0     0.0  0.0  0.0   \nmean    1.666667   1.909091  ...  NaN     NaN  NaN     NaN  NaN  NaN   \nstd     0.478714   1.307757  ...  NaN     NaN  NaN     NaN  NaN  NaN   \nmin     1.000000   1.000000  ...  NaN     NaN  NaN     NaN  NaN  NaN   \n25%     1.000000   1.000000  ...  NaN     NaN  NaN     NaN  NaN  NaN   \n50%     2.000000   1.000000  ...  NaN     NaN  NaN     NaN  NaN  NaN   \n75%     2.000000   3.000000  ...  NaN     NaN  NaN     NaN  NaN  NaN   \nmax     2.000000   5.000000  ...  NaN     NaN  NaN     NaN  NaN  NaN   \n\n       gps-Latitude  gps-Longitude  gps-Altitude  gps-Accuracy  \ncount     33.000000      33.000000     33.000000     33.000000  \nmean      25.778279      88.898542    -12.069697      5.172727  \nstd        0.000471       0.006005      1.125135      1.389306  \nmin       25.777609      88.892664    -17.800000      3.200000  \n25%       25.777856      88.892783    -12.300000      4.500000  \n50%       25.777944      88.892962    -12.100000      4.700000  \n75%       25.778755      88.904634    -11.700000      4.900000  \nmax       25.778813      88.904761    -10.800000      9.600000  \n\n[8 rows x 66 columns]",
            "text/html": "<div>\n<style scoped>\n    .dataframe tbody tr th:only-of-type {\n        vertical-align: middle;\n    }\n\n    .dataframe tbody tr th {\n        vertical-align: top;\n    }\n\n    .dataframe thead th {\n        text-align: right;\n    }\n</style>\n<table border=\"1\" class=\"dataframe\">\n  <thead>\n    <tr style=\"text-align: right;\">\n      <th></th>\n      <th>enum</th>\n      <th>sup</th>\n      <th>a5</th>\n      <th>a6</th>\n      <th>a8</th>\n      <th>a8oth</th>\n      <th>a9</th>\n      <th>consent</th>\n      <th>b12</th>\n      <th>b13</th>\n      <th>...</th>\n      <th>c53</th>\n      <th>c53oth</th>\n      <th>c54</th>\n      <th>c54oth</th>\n      <th>c55</th>\n      <th>c56</th>\n      <th>gps-Latitude</th>\n      <th>gps-Longitude</th>\n      <th>gps-Altitude</th>\n      <th>gps-Accuracy</th>\n    </tr>\n  </thead>\n  <tbody>\n    <tr>\n      <th>count</th>\n      <td>33.000000</td>\n      <td>33.0</td>\n      <td>33.0</td>\n      <td>33.000000</td>\n      <td>33.0</td>\n      <td>0.0</td>\n      <td>33.0</td>\n      <td>33.0</td>\n      <td>33.000000</td>\n      <td>33.000000</td>\n      <td>...</td>\n      <td>0.0</td>\n      <td>0.0</td>\n      <td>0.0</td>\n      <td>0.0</td>\n      <td>0.0</td>\n      <td>0.0</td>\n      <td>33.000000</td>\n      <td>33.000000</td>\n      <td>33.000000</td>\n      <td>33.000000</td>\n    </tr>\n    <tr>\n      <th>mean</th>\n      <td>3.484848</td>\n      <td>1.0</td>\n      <td>1.0</td>\n      <td>9.060606</td>\n      <td>2.0</td>\n      <td>NaN</td>\n      <td>24.0</td>\n      <td>1.0</td>\n      <td>1.666667</td>\n      <td>1.909091</td>\n      <td>...</td>\n      <td>NaN</td>\n      <td>NaN</td>\n      <td>NaN</td>\n      <td>NaN</td>\n      <td>NaN</td>\n      <td>NaN</td>\n      <td>25.778279</td>\n      <td>88.898542</td>\n      <td>-12.069697</td>\n      <td>5.172727</td>\n    </tr>\n    <tr>\n      <th>std</th>\n      <td>1.121417</td>\n      <td>0.0</td>\n      <td>0.0</td>\n      <td>2.030077</td>\n      <td>0.0</td>\n      <td>NaN</td>\n      <td>0.0</td>\n      <td>0.0</td>\n      <td>0.478714</td>\n      <td>1.307757</td>\n      <td>...</td>\n      <td>NaN</td>\n      <td>NaN</td>\n      <td>NaN</td>\n      <td>NaN</td>\n      <td>NaN</td>\n      <td>NaN</td>\n      <td>0.000471</td>\n      <td>0.006005</td>\n      <td>1.125135</td>\n      <td>1.389306</td>\n    </tr>\n    <tr>\n      <th>min</th>\n      <td>2.000000</td>\n      <td>1.0</td>\n      <td>1.0</td>\n      <td>7.000000</td>\n      <td>2.0</td>\n      <td>NaN</td>\n      <td>24.0</td>\n      <td>1.0</td>\n      <td>1.000000</td>\n      <td>1.000000</td>\n      <td>...</td>\n      <td>NaN</td>\n      <td>NaN</td>\n      <td>NaN</td>\n      <td>NaN</td>\n      <td>NaN</td>\n      <td>NaN</td>\n      <td>25.777609</td>\n      <td>88.892664</td>\n      <td>-17.800000</td>\n      <td>3.200000</td>\n    </tr>\n    <tr>\n      <th>25%</th>\n      <td>3.000000</td>\n      <td>1.0</td>\n      <td>1.0</td>\n      <td>7.000000</td>\n      <td>2.0</td>\n      <td>NaN</td>\n      <td>24.0</td>\n      <td>1.0</td>\n      <td>1.000000</td>\n      <td>1.000000</td>\n      <td>...</td>\n      <td>NaN</td>\n      <td>NaN</td>\n      <td>NaN</td>\n      <td>NaN</td>\n      <td>NaN</td>\n      <td>NaN</td>\n      <td>25.777856</td>\n      <td>88.892783</td>\n      <td>-12.300000</td>\n      <td>4.500000</td>\n    </tr>\n    <tr>\n      <th>50%</th>\n      <td>3.000000</td>\n      <td>1.0</td>\n      <td>1.0</td>\n      <td>11.000000</td>\n      <td>2.0</td>\n      <td>NaN</td>\n      <td>24.0</td>\n      <td>1.0</td>\n      <td>2.000000</td>\n      <td>1.000000</td>\n      <td>...</td>\n      <td>NaN</td>\n      <td>NaN</td>\n      <td>NaN</td>\n      <td>NaN</td>\n      <td>NaN</td>\n      <td>NaN</td>\n      <td>25.777944</td>\n      <td>88.892962</td>\n      <td>-12.100000</td>\n      <td>4.700000</td>\n    </tr>\n    <tr>\n      <th>75%</th>\n      <td>4.000000</td>\n      <td>1.0</td>\n      <td>1.0</td>\n      <td>11.000000</td>\n      <td>2.0</td>\n      <td>NaN</td>\n      <td>24.0</td>\n      <td>1.0</td>\n      <td>2.000000</td>\n      <td>3.000000</td>\n      <td>...</td>\n      <td>NaN</td>\n      <td>NaN</td>\n      <td>NaN</td>\n      <td>NaN</td>\n      <td>NaN</td>\n      <td>NaN</td>\n      <td>25.778755</td>\n      <td>88.904634</td>\n      <td>-11.700000</td>\n      <td>4.900000</td>\n    </tr>\n    <tr>\n      <th>max</th>\n      <td>5.000000</td>\n      <td>1.0</td>\n      <td>1.0</td>\n      <td>11.000000</td>\n      <td>2.0</td>\n      <td>NaN</td>\n      <td>24.0</td>\n      <td>1.0</td>\n      <td>2.000000</td>\n      <td>5.000000</td>\n      <td>...</td>\n      <td>NaN</td>\n      <td>NaN</td>\n      <td>NaN</td>\n      <td>NaN</td>\n      <td>NaN</td>\n      <td>NaN</td>\n      <td>25.778813</td>\n      <td>88.904761</td>\n      <td>-10.800000</td>\n      <td>9.600000</td>\n    </tr>\n  </tbody>\n</table>\n<p>8 rows × 66 columns</p>\n</div>"
          },
          "metadata": {}
        }
      ],
      "id": "fe55883a-6887-43dd-9498-5333a51799e2"
    },
    {
      "cell_type": "code",
      "source": "wide['gps-Accuracy'].mean()",
      "metadata": {
        "trusted": true
      },
      "execution_count": 36,
      "outputs": [
        {
          "execution_count": 36,
          "output_type": "execute_result",
          "data": {
            "text/plain": "5.172727272727272"
          },
          "metadata": {}
        }
      ],
      "id": "cad7133a-f3f2-481b-abbc-a5b3a070ca29"
    },
    {
      "cell_type": "code",
      "source": "",
      "metadata": {},
      "execution_count": null,
      "outputs": [],
      "id": "73571219-6180-4cc6-89ea-6b30eb7f9447"
    }
  ]
}